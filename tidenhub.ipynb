{
 "cells": [
  {
   "cell_type": "markdown",
   "metadata": {},
   "source": [
    "# Tides\n",
    "\n",
    "Notebook for analysing high and low tide measurement data for several locations in Germany.\n",
    "\n",
    "Data source is Wasser- und Schifffahrtsverwaltung des Bundes (WSV) provided by Bundesanstalt für Gewässerkunde (BfG)."
   ]
  },
  {
   "cell_type": "code",
   "execution_count": 1,
   "metadata": {
    "collapsed": false,
    "scrolled": true
   },
   "outputs": [],
   "source": [
    "%matplotlib inline\n",
    "\n",
    "import glob\n",
    "\n",
    "import pandas as pd\n",
    "import numpy as np\n",
    "\n",
    "import matplotlib\n",
    "import matplotlib.pyplot as plt\n",
    "import seaborn as sns\n",
    "\n",
    "matplotlib.rcParams['svg.fonttype'] = 'none'\n",
    "\n"
   ]
  },
  {
   "cell_type": "markdown",
   "metadata": {},
   "source": [
    "Read in tide `.zrx` files. It's basically CSV with some weird meta data stuff on top.\n",
    "\n",
    "Drop bad datasets and convert columns into categoricals."
   ]
  },
  {
   "cell_type": "code",
   "execution_count": 2,
   "metadata": {
    "collapsed": false,
    "scrolled": true
   },
   "outputs": [
    {
     "name": "stdout",
     "output_type": "stream",
     "text": [
      "Tnw+Thw-1/BÅsum-Thw.zrx\n",
      "Tnw+Thw-1/BÅsum-Tnw.zrx\n",
      "Tnw+Thw-1/DagebÅll-Thw.zrx\n",
      "Tnw+Thw-1/DagebÅll-Tnw.zrx\n",
      "Tnw+Thw-1/Helgoland-Binnenhafen-Thw.zrx\n",
      "Tnw+Thw-1/Helgoland-Binnenhafen-Tnw.zrx\n",
      "Tnw+Thw-1/Husum-Thw.zrx\n",
      "Tnw+Thw-1/Husum-Tnw.zrx\n",
      "Tnw+Thw-2/BHV-Alter-Leuchtturm-Thw.zrx\n",
      "Tnw+Thw-2/BHV-Alter-Leuchtturm-Tnw.zrx\n",
      "Tnw+Thw-2/Borkum-Fischerbalje-Thw.zrx\n",
      "Tnw+Thw-2/Borkum-Fischerbalje-Tnw.zrx\n",
      "Tnw+Thw-2/Borkum-SÅdstrand-Thw.zrx\n",
      "Tnw+Thw-2/Borkum-SÅdstrand-Tnw.zrx\n",
      "Tnw+Thw-2/Brokdorf-Thw.zrx\n",
      "Tnw+Thw-2/Brokdorf-Tnw.zrx\n",
      "Tnw+Thw-2/Cuxhaven-Steubenhîft-Thw.zrx\n",
      "Tnw+Thw-2/Cuxhaven-Steubenhîft-Tnw.zrx\n",
      "Tnw+Thw-2/Eider-Sperrwerk-AP-Thw.zrx\n",
      "Tnw+Thw-2/Eider-Sperrwerk-AP-Tnw.zrx\n",
      "Tnw+Thw-2/Emshîrn-Thw.zrx\n",
      "Tnw+Thw-2/Emshîrn-Tnw.zrx\n",
      "Tnw+Thw-2/HH-St-Pauli-Thw.zrx\n",
      "Tnw+Thw-2/HH-St-Pauli-Tnw.zrx\n",
      "Tnw+Thw-2/Hîrnum-Thw.zrx\n",
      "Tnw+Thw-2/Hîrnum-Tnw.zrx\n",
      "Tnw+Thw-2/Kollmar-Thw.zrx\n",
      "Tnw+Thw-2/Kollmar-Tnw.zrx\n",
      "Tnw+Thw-2/List-Thw.zrx\n",
      "Tnw+Thw-2/List-Tnw.zrx\n",
      "Tnw+Thw-2/LT-Alte-Weser-Thw.zrx\n",
      "Tnw+Thw-2/LT-Alte-Weser-Tnw.zrx\n",
      "Tnw+Thw-2/Mellumplate-Thw.zrx\n",
      "Tnw+Thw-2/Mellumplate-Tnw.zrx\n",
      "Tnw+Thw-2/Mittelgrund-Thw.zrx\n",
      "Tnw+Thw-2/Mittelgrund-Tnw.zrx\n",
      "Tnw+Thw-2/Nordenham-Thw.zrx\n",
      "Tnw+Thw-2/Nordenham-Tnw.zrx\n",
      "Tnw+Thw-2/Norderney-Riffgat-Thw.zrx\n",
      "Tnw+Thw-2/Norderney-Riffgat-Tnw.zrx\n",
      "Tnw+Thw-2/Scharhîrn-Thw.zrx\n",
      "Tnw+Thw-2/Scharhîrn-Tnw.zrx\n",
      "Tnw+Thw-2/Schulau-Thw.zrx\n",
      "Tnw+Thw-2/Schulau-Tnw.zrx\n",
      "Tnw+Thw-2/Stadersand-Thw.zrx\n",
      "Tnw+Thw-2/Stadersand-Tnw.zrx\n",
      "Tnw+Thw-2/Tînning-Thw.zrx\n",
      "Tnw+Thw-2/Tînning-Tnw.zrx\n",
      "Tnw+Thw-2/WittdÅn-Thw.zrx\n",
      "Tnw+Thw-2/WittdÅn-Tnw.zrx\n",
      "Tnw+Thw-2/Zehnerloch-Tnw.zrx\n",
      "Tnw+Thw-2/Zollenspieker-Thw.zrx\n",
      "Tnw+Thw-2/Zollenspieker-Tnw.zrx\n",
      "Tnw+Thw-3/Altengamme-Thw.zrx\n",
      "Tnw+Thw-3/Altengamme-Tnw.zrx\n",
      "Tnw+Thw-3/Belum-Thw.zrx\n",
      "Tnw+Thw-3/Belum-Tnw.zrx\n",
      "Tnw+Thw-3/Dukegat-Thw.zrx\n",
      "Tnw+Thw-3/Dukegat-Tnw.zrx\n",
      "Tnw+Thw-3/Dwarsgat-Thw.zrx\n",
      "Tnw+Thw-3/Dwarsgat-Tnw.zrx\n",
      "Tnw+Thw-3/Emden-Neue-Seeschleuse-Thw.zrx\n",
      "Tnw+Thw-3/Emden-Neue-Seeschleuse-Tnw.zrx\n",
      "Tnw+Thw-3/GlÅckstadt-Thw.zrx\n",
      "Tnw+Thw-3/GlÅckstadt-Tnw.zrx\n",
      "Tnw+Thw-3/Hechthausen-Thw.zrx\n",
      "Tnw+Thw-3/Hechthausen-Tnw.zrx\n",
      "Tnw+Thw-3/Knock-Thw.zrx\n",
      "Tnw+Thw-3/Knock-Tnw.zrx\n",
      "Tnw+Thw-3/Krautsand-Thw.zrx\n",
      "Tnw+Thw-3/Krautsand-Tnw.zrx\n",
      "Tnw+Thw-3/Langeoog-Thw.zrx\n",
      "Tnw+Thw-3/Langeoog-Tnw.zrx\n",
      "Tnw+Thw-3/Papenburg-Thw.zrx\n",
      "Tnw+Thw-3/Papenburg-Tnw.zrx\n",
      "Tnw+Thw-3/Pogum-Thw.zrx\n",
      "Tnw+Thw-3/Pogum-Tnw.zrx\n",
      "Tnw+Thw-3/RobbensÅdsteert-Thw.zrx\n",
      "Tnw+Thw-3/RobbensÅdsteert-Tnw.zrx\n",
      "Tnw+Thw-3/Spiekeroog-Thw.zrx\n",
      "Tnw+Thw-3/Spiekeroog-Tnw.zrx\n",
      "Tnw+Thw-3/Voslapp-Thw.zrx\n",
      "Tnw+Thw-3/Voslapp-Tnw.zrx\n",
      "Tnw+Thw-3/Wangerooge-Nord-Thw.zrx\n",
      "Tnw+Thw-3/Wangerooge-Nord-Tnw.zrx\n",
      "Tnw+Thw-3/Wangerooge-West-Thw.zrx\n",
      "Tnw+Thw-3/Wangerooge-West-Tnw.zrx\n",
      "Tnw+Thw-3/Weener-Thw.zrx\n",
      "Tnw+Thw-3/Weener-Tnw.zrx\n",
      "Tnw+Thw-3/WHV-Alter-Vorhafen-Thw.zrx\n",
      "Tnw+Thw-3/WHV-Alter-Vorhafen-Tnw.zrx\n"
     ]
    },
    {
     "data": {
      "text/plain": [
       "timestamp    datetime64[ns]\n",
       "value                object\n",
       "name               category\n",
       "type               category\n",
       "filename           category\n",
       "dtype: object"
      ]
     },
     "execution_count": 2,
     "metadata": {},
     "output_type": "execute_result"
    }
   ],
   "source": [
    "dateparse = lambda x: pd.datetime.strptime(x, '%Y%m%d%H%M%S')\n",
    "\n",
    "def parse_meta_data(filename):\n",
    "    meta_info = []\n",
    "    with open(filename, encoding='latin1') as f:\n",
    "        for line in f:\n",
    "            if not line.startswith('#'):\n",
    "                break\n",
    "            meta_info.extend(line[1:].split('|*|'))\n",
    "    return [m for m in meta_info if m]\n",
    "\n",
    "\n",
    "def read_tide(filename):\n",
    "    print(filename)\n",
    "    df = pd.read_csv(filename, comment='#', sep=' ',\n",
    "                     header=None, names=['timestamp', 'value', ''],\n",
    "                     usecols=['timestamp', 'value'],\n",
    "                     parse_dates=[0], date_parser=dateparse)\n",
    "\n",
    "    meta_info = parse_meta_data(filename)\n",
    "    name = [m for m in meta_info if m.startswith('SNAME')]\n",
    "    if name:\n",
    "        name = name[0][len('SNAME'):]\n",
    "        df['name'] = name\n",
    "    else:\n",
    "        df['name'] = None\n",
    "    file_type = filename.split('.')[0].split('-')[-1]\n",
    "    df['type'] = file_type\n",
    "    \n",
    "    df['filename'] = filename\n",
    "    return df\n",
    "    \n",
    "\n",
    "filenames = glob.glob('Tnw+Thw-*/*.zrx')\n",
    "\n",
    "# Drop Zehnerloch, because it's broken\n",
    "filenames.remove('Tnw+Thw-2/Zehnerloch-Thw.zrx')\n",
    "\n",
    "# Drop duplicate file Krautsand\n",
    "filenames.remove('Tnw+Thw-2/Krautsand-Thw.zrx')\n",
    "filenames.remove('Tnw+Thw-2/Krautsand-Tnw.zrx')\n",
    "\n",
    "df = pd.concat([read_tide(f) for f in filenames])\n",
    "\n",
    "# Drop Tönning from data, because it doesn't make sense, quote WSV:\n",
    "# „Da die Wasserstandsdaten des Pegels Tönning durch das Eidersperrwerk\n",
    "# beeinflusst sind, erscheint eine Darstellung in dem\n",
    "# Diagramm „Hochwasser an deutschen Küsten von 1950 bis 2014“ hydrologisch\n",
    "# nicht sinnvoll. Ich schlage vor, die MThw-Ganglinie des Pegels Tönning aus\n",
    "# dem Diagramm zu entfernen.\n",
    "df = df[df['name'] != 'TÖNNING']\n",
    "\n",
    "df['type'] = df['type'].astype('category')\n",
    "df['filename'] = df['filename'].astype('category')\n",
    "df['name'] = df['name'].astype('category')\n",
    "df.describe()\n",
    "df.dtypes"
   ]
  },
  {
   "cell_type": "code",
   "execution_count": 3,
   "metadata": {
    "collapsed": false
   },
   "outputs": [
    {
     "data": {
      "text/html": [
       "<div>\n",
       "<table border=\"1\" class=\"dataframe\">\n",
       "  <thead>\n",
       "    <tr style=\"text-align: right;\">\n",
       "      <th></th>\n",
       "      <th>timestamp</th>\n",
       "      <th>value</th>\n",
       "      <th>name</th>\n",
       "      <th>type</th>\n",
       "      <th>filename</th>\n",
       "    </tr>\n",
       "  </thead>\n",
       "  <tbody>\n",
       "    <tr>\n",
       "      <th>count</th>\n",
       "      <td>3509635</td>\n",
       "      <td>3509635</td>\n",
       "      <td>3509635</td>\n",
       "      <td>3509635</td>\n",
       "      <td>3509635</td>\n",
       "    </tr>\n",
       "    <tr>\n",
       "      <th>unique</th>\n",
       "      <td>3330633</td>\n",
       "      <td>980</td>\n",
       "      <td>45</td>\n",
       "      <td>2</td>\n",
       "      <td>89</td>\n",
       "    </tr>\n",
       "    <tr>\n",
       "      <th>top</th>\n",
       "      <td>1997-11-19 02:40:00</td>\n",
       "      <td>640</td>\n",
       "      <td>CUXHAVEN/STEUBENHÖFT</td>\n",
       "      <td>Tnw</td>\n",
       "      <td>Tnw+Thw-2/Cuxhaven-Steubenhîft-Thw.zrx</td>\n",
       "    </tr>\n",
       "    <tr>\n",
       "      <th>freq</th>\n",
       "      <td>5</td>\n",
       "      <td>18831</td>\n",
       "      <td>162672</td>\n",
       "      <td>1774365</td>\n",
       "      <td>81336</td>\n",
       "    </tr>\n",
       "    <tr>\n",
       "      <th>first</th>\n",
       "      <td>1900-01-01 00:16:00</td>\n",
       "      <td>NaN</td>\n",
       "      <td>NaN</td>\n",
       "      <td>NaN</td>\n",
       "      <td>NaN</td>\n",
       "    </tr>\n",
       "    <tr>\n",
       "      <th>last</th>\n",
       "      <td>2015-10-31 21:08:00</td>\n",
       "      <td>NaN</td>\n",
       "      <td>NaN</td>\n",
       "      <td>NaN</td>\n",
       "      <td>NaN</td>\n",
       "    </tr>\n",
       "  </tbody>\n",
       "</table>\n",
       "</div>"
      ],
      "text/plain": [
       "                  timestamp    value                  name     type  \\\n",
       "count               3509635  3509635               3509635  3509635   \n",
       "unique              3330633      980                    45        2   \n",
       "top     1997-11-19 02:40:00      640  CUXHAVEN/STEUBENHÖFT      Tnw   \n",
       "freq                      5    18831                162672  1774365   \n",
       "first   1900-01-01 00:16:00      NaN                   NaN      NaN   \n",
       "last    2015-10-31 21:08:00      NaN                   NaN      NaN   \n",
       "\n",
       "                                       filename  \n",
       "count                                   3509635  \n",
       "unique                                       89  \n",
       "top     Tnw+Thw-2/Cuxhaven-Steubenhîft-Thw.zrx  \n",
       "freq                                      81336  \n",
       "first                                       NaN  \n",
       "last                                        NaN  "
      ]
     },
     "execution_count": 3,
     "metadata": {},
     "output_type": "execute_result"
    }
   ],
   "source": [
    "# Assumption is: these values are incorrect\n",
    "INVALID_VALUES = [-777, 0]\n",
    "df = df[~df.value.isin(INVALID_VALUES)]\n",
    "df.describe()"
   ]
  },
  {
   "cell_type": "code",
   "execution_count": 11,
   "metadata": {
    "collapsed": false
   },
   "outputs": [],
   "source": [
    "df['timestamp'] = pd.to_datetime(df[\"timestamp\"])"
   ]
  },
  {
   "cell_type": "code",
   "execution_count": 12,
   "metadata": {
    "collapsed": false
   },
   "outputs": [
    {
     "data": {
      "text/plain": [
       "CUXHAVEN/STEUBENHÖFT      162672\n",
       "BORKUM SÜDSTRAND          112806\n",
       "WHV ALTER VORHAFEN        112493\n",
       "WITTDÜN                   111751\n",
       "HUSUM                     111749\n",
       "DAGEBÜLL                  111693\n",
       "BÜSUM                     111281\n",
       "LIST                      110924\n",
       "HÖRNUM                    110924\n",
       "HELGOLAND BINNENHAFEN     101772\n",
       "HAMBURG-ST.PAULI           92925\n",
       "PAPENBURG                  92804\n",
       "EMDEN NEUE SEESCHLEUSE     92804\n",
       "POGUM                      92804\n",
       "Zollenspieker              92687\n",
       "SCHULAU                    92687\n",
       "STADERSAND                 92448\n",
       "KOLLMAR                    91749\n",
       "BROKDORF                   91748\n",
       "NORDENHAM                  84572\n",
       "GLÜCKSTADT                 78570\n",
       "SCHARHÖRN                  78102\n",
       "MELLUMPLATE                74574\n",
       "NORDERNEY RIFFGAT          73279\n",
       "BORKUM-FISCHERBALJE        72226\n",
       "LEUCHTTURM ALTE WESER      71865\n",
       "BHV ALTER LEUCHTTURM       70455\n",
       "WEENER                     64218\n",
       "HECHTHAUSEN                62583\n",
       "MITTELGRUND                62575\n",
       "BELUM                      62575\n",
       "Altengamme                 61632\n",
       "EIDER-SPERRWERK AP         60102\n",
       "EMSHÖRN                    56464\n",
       "KRAUTSAND                  55287\n",
       "KNOCK                      53161\n",
       "DWARSGAT                   51751\n",
       "LANGEOOG                   45988\n",
       "DUKEGAT                    44694\n",
       "ROBBENSÜDSTEERT            41869\n",
       "VOSLAPP                    39052\n",
       "ZEHNERLOCH                 39051\n",
       "SPIEKEROOG                 39050\n",
       "WANGEROOGE WEST            38996\n",
       "WANGEROOGE NORD            36223\n",
       "Name: name, dtype: int64"
      ]
     },
     "execution_count": 12,
     "metadata": {},
     "output_type": "execute_result"
    }
   ],
   "source": [
    "df.name.value_counts()"
   ]
  },
  {
   "cell_type": "code",
   "execution_count": 13,
   "metadata": {
    "collapsed": false,
    "scrolled": true
   },
   "outputs": [
    {
     "data": {
      "text/plain": [
       "3509635"
      ]
     },
     "execution_count": 13,
     "metadata": {},
     "output_type": "execute_result"
    }
   ],
   "source": [
    "len(df)"
   ]
  },
  {
   "cell_type": "code",
   "execution_count": 14,
   "metadata": {
    "collapsed": false
   },
   "outputs": [
    {
     "data": {
      "text/plain": [
       "5"
      ]
     },
     "execution_count": 14,
     "metadata": {},
     "output_type": "execute_result"
    }
   ],
   "source": [
    "len(df.columns)"
   ]
  },
  {
   "cell_type": "code",
   "execution_count": 15,
   "metadata": {
    "collapsed": false
   },
   "outputs": [],
   "source": [
    "# Check for duplicate values\n",
    "df_thw = df[(df.type == 'Thw')]\n",
    "duplicated_thw = df_thw[['name', 'timestamp']].duplicated()\n",
    "assert len(df_thw[duplicated_thw].sort_values(['name', 'timestamp'])) == 0"
   ]
  },
  {
   "cell_type": "markdown",
   "metadata": {},
   "source": [
    "## Plotting\n",
    "\n",
    "To quickly plot the different locations we groupby name and timestamp (which is a unique criteria for each row so the mean is not a real mean), unstack and transpose, and resample to create a table as seen below."
   ]
  },
  {
   "cell_type": "code",
   "execution_count": 16,
   "metadata": {
    "collapsed": false
   },
   "outputs": [
    {
     "ename": "DataError",
     "evalue": "No numeric types to aggregate",
     "output_type": "error",
     "traceback": [
      "\u001b[0;31m---------------------------------------------------------------------------\u001b[0m",
      "\u001b[0;31mDataError\u001b[0m                                 Traceback (most recent call last)",
      "\u001b[0;32m<ipython-input-16-9270f5b008d9>\u001b[0m in \u001b[0;36m<module>\u001b[0;34m()\u001b[0m\n\u001b[1;32m      1\u001b[0m plot_data = df[(df.timestamp.dt.year >= 1950) & \n\u001b[1;32m      2\u001b[0m                \u001b[0;34m(\u001b[0m\u001b[0mdf\u001b[0m\u001b[0;34m.\u001b[0m\u001b[0mtype\u001b[0m \u001b[0;34m==\u001b[0m \u001b[0;34m'Thw'\u001b[0m\u001b[0;34m)\u001b[0m\u001b[0;34m\u001b[0m\u001b[0m\n\u001b[0;32m----> 3\u001b[0;31m               ].groupby(['name', 'timestamp']).value.mean().unstack().T.resample('A', how='mean')\n\u001b[0m\u001b[1;32m      4\u001b[0m \u001b[0;34m\u001b[0m\u001b[0m\n\u001b[1;32m      5\u001b[0m \u001b[0;31m# Try out different means\u001b[0m\u001b[0;34m\u001b[0m\u001b[0;34m\u001b[0m\u001b[0m\n",
      "\u001b[0;32m/Library/Frameworks/Python.framework/Versions/3.5/lib/python3.5/site-packages/pandas/core/groupby.py\u001b[0m in \u001b[0;36mmean\u001b[0;34m(self, *args, **kwargs)\u001b[0m\n\u001b[1;32m   1007\u001b[0m         \u001b[0mnv\u001b[0m\u001b[0;34m.\u001b[0m\u001b[0mvalidate_groupby_func\u001b[0m\u001b[0;34m(\u001b[0m\u001b[0;34m'mean'\u001b[0m\u001b[0;34m,\u001b[0m \u001b[0margs\u001b[0m\u001b[0;34m,\u001b[0m \u001b[0mkwargs\u001b[0m\u001b[0;34m)\u001b[0m\u001b[0;34m\u001b[0m\u001b[0m\n\u001b[1;32m   1008\u001b[0m         \u001b[0;32mtry\u001b[0m\u001b[0;34m:\u001b[0m\u001b[0;34m\u001b[0m\u001b[0m\n\u001b[0;32m-> 1009\u001b[0;31m             \u001b[0;32mreturn\u001b[0m \u001b[0mself\u001b[0m\u001b[0;34m.\u001b[0m\u001b[0m_cython_agg_general\u001b[0m\u001b[0;34m(\u001b[0m\u001b[0;34m'mean'\u001b[0m\u001b[0;34m)\u001b[0m\u001b[0;34m\u001b[0m\u001b[0m\n\u001b[0m\u001b[1;32m   1010\u001b[0m         \u001b[0;32mexcept\u001b[0m \u001b[0mGroupByError\u001b[0m\u001b[0;34m:\u001b[0m\u001b[0;34m\u001b[0m\u001b[0m\n\u001b[1;32m   1011\u001b[0m             \u001b[0;32mraise\u001b[0m\u001b[0;34m\u001b[0m\u001b[0m\n",
      "\u001b[0;32m/Library/Frameworks/Python.framework/Versions/3.5/lib/python3.5/site-packages/pandas/core/groupby.py\u001b[0m in \u001b[0;36m_cython_agg_general\u001b[0;34m(self, how, numeric_only)\u001b[0m\n\u001b[1;32m    806\u001b[0m \u001b[0;34m\u001b[0m\u001b[0m\n\u001b[1;32m    807\u001b[0m         \u001b[0;32mif\u001b[0m \u001b[0mlen\u001b[0m\u001b[0;34m(\u001b[0m\u001b[0moutput\u001b[0m\u001b[0;34m)\u001b[0m \u001b[0;34m==\u001b[0m \u001b[0;36m0\u001b[0m\u001b[0;34m:\u001b[0m\u001b[0;34m\u001b[0m\u001b[0m\n\u001b[0;32m--> 808\u001b[0;31m             \u001b[0;32mraise\u001b[0m \u001b[0mDataError\u001b[0m\u001b[0;34m(\u001b[0m\u001b[0;34m'No numeric types to aggregate'\u001b[0m\u001b[0;34m)\u001b[0m\u001b[0;34m\u001b[0m\u001b[0m\n\u001b[0m\u001b[1;32m    809\u001b[0m \u001b[0;34m\u001b[0m\u001b[0m\n\u001b[1;32m    810\u001b[0m         \u001b[0;32mreturn\u001b[0m \u001b[0mself\u001b[0m\u001b[0;34m.\u001b[0m\u001b[0m_wrap_aggregated_output\u001b[0m\u001b[0;34m(\u001b[0m\u001b[0moutput\u001b[0m\u001b[0;34m,\u001b[0m \u001b[0mnames\u001b[0m\u001b[0;34m)\u001b[0m\u001b[0;34m\u001b[0m\u001b[0m\n",
      "\u001b[0;31mDataError\u001b[0m: No numeric types to aggregate"
     ]
    }
   ],
   "source": [
    "plot_data = df[(df.timestamp.dt.year >= 1950) & \n",
    "               (df.type == 'Thw')\n",
    "              ].groupby(['name', 'timestamp']).value.mean().unstack().T.resample('A', how='mean')\n",
    "\n",
    "# Try out different means\n",
    "# plot_data = df.groupby(['name', 'timestamp']).value.mean().unstack().T.rolling_mean()\n",
    "# plot_data = pd.rolling_max(plot_data, window=3, min_periods=1)\n",
    "# plot_data = df.groupby(['timestamp', 'name']).value.resample('1W', how='mean')\n",
    "plot_data.tail()\n"
   ]
  },
  {
   "cell_type": "code",
   "execution_count": null,
   "metadata": {
    "collapsed": false,
    "scrolled": false
   },
   "outputs": [],
   "source": [
    "fig  = plt.figure(figsize=(5, 10))\n",
    "ax = plt.subplot(111)\n",
    "\n",
    "plot_data.plot(ax=ax, color='gray', legend=False)\n",
    "plt.tick_params(axis='y', which='both', labelleft='on', labelright='on')"
   ]
  },
  {
   "cell_type": "code",
   "execution_count": null,
   "metadata": {
    "collapsed": false
   },
   "outputs": [],
   "source": [
    "# Check the mean of first 20 values and last twenty values\n",
    "pd.DataFrame([plot_data[:20].mean(), plot_data[-20:].mean()]).T"
   ]
  },
  {
   "cell_type": "markdown",
   "metadata": {},
   "source": [
    "To properly plot, let's check out when measurements started/ended for the locations."
   ]
  },
  {
   "cell_type": "code",
   "execution_count": null,
   "metadata": {
    "collapsed": false,
    "scrolled": true
   },
   "outputs": [],
   "source": [
    "first_measurement = df.groupby(['name']).timestamp.first()\n",
    "stations_1970 = first_measurement[first_measurement.dt.year <= 1970]\n",
    "stations_1950 = first_measurement[first_measurement.dt.year <= 1950]\n",
    "# stations_1970\n",
    "first_measurement.sort_values()"
   ]
  },
  {
   "cell_type": "markdown",
   "metadata": {},
   "source": [
    "Cuxhaven location has the most data, trend seems pretty clear."
   ]
  },
  {
   "cell_type": "code",
   "execution_count": 17,
   "metadata": {
    "collapsed": false
   },
   "outputs": [
    {
     "name": "stderr",
     "output_type": "stream",
     "text": [
      "/Library/Frameworks/Python.framework/Versions/3.5/lib/python3.5/site-packages/ipykernel/__main__.py:1: FutureWarning: how in .resample() is deprecated\n",
      "the new syntax is .resample(...).mean()\n",
      "  if __name__ == '__main__':\n"
     ]
    },
    {
     "ename": "DataError",
     "evalue": "No numeric types to aggregate",
     "output_type": "error",
     "traceback": [
      "\u001b[0;31m---------------------------------------------------------------------------\u001b[0m",
      "\u001b[0;31mDataError\u001b[0m                                 Traceback (most recent call last)",
      "\u001b[0;32m<ipython-input-17-0ee7c091290c>\u001b[0m in \u001b[0;36m<module>\u001b[0;34m()\u001b[0m\n\u001b[0;32m----> 1\u001b[0;31m \u001b[0mcuxhaven\u001b[0m \u001b[0;34m=\u001b[0m \u001b[0mdf\u001b[0m\u001b[0;34m[\u001b[0m\u001b[0mdf\u001b[0m\u001b[0;34m.\u001b[0m\u001b[0mname\u001b[0m \u001b[0;34m==\u001b[0m \u001b[0;34m'CUXHAVEN/STEUBENHÖFT'\u001b[0m\u001b[0;34m]\u001b[0m\u001b[0;34m.\u001b[0m\u001b[0mset_index\u001b[0m\u001b[0;34m(\u001b[0m\u001b[0;34m'timestamp'\u001b[0m\u001b[0;34m)\u001b[0m\u001b[0;34m.\u001b[0m\u001b[0mvalue\u001b[0m\u001b[0;34m.\u001b[0m\u001b[0mresample\u001b[0m\u001b[0;34m(\u001b[0m\u001b[0;34m'1A'\u001b[0m\u001b[0;34m,\u001b[0m \u001b[0mhow\u001b[0m\u001b[0;34m=\u001b[0m\u001b[0;34m'mean'\u001b[0m\u001b[0;34m)\u001b[0m\u001b[0;34m\u001b[0m\u001b[0m\n\u001b[0m\u001b[1;32m      2\u001b[0m \u001b[0;34m\u001b[0m\u001b[0m\n\u001b[1;32m      3\u001b[0m \u001b[0mcuxhaven\u001b[0m\u001b[0;34m\u001b[0m\u001b[0m\n",
      "\u001b[0;32m/Library/Frameworks/Python.framework/Versions/3.5/lib/python3.5/site-packages/pandas/core/generic.py\u001b[0m in \u001b[0;36mresample\u001b[0;34m(self, rule, how, axis, fill_method, closed, label, convention, kind, loffset, limit, base, on, level)\u001b[0m\n\u001b[1;32m   4195\u001b[0m                                            \u001b[0mhow\u001b[0m\u001b[0;34m=\u001b[0m\u001b[0mhow\u001b[0m\u001b[0;34m,\u001b[0m\u001b[0;34m\u001b[0m\u001b[0m\n\u001b[1;32m   4196\u001b[0m                                            \u001b[0mfill_method\u001b[0m\u001b[0;34m=\u001b[0m\u001b[0mfill_method\u001b[0m\u001b[0;34m,\u001b[0m\u001b[0;34m\u001b[0m\u001b[0m\n\u001b[0;32m-> 4197\u001b[0;31m                                            limit=limit)\n\u001b[0m\u001b[1;32m   4198\u001b[0m \u001b[0;34m\u001b[0m\u001b[0m\n\u001b[1;32m   4199\u001b[0m     \u001b[0;32mdef\u001b[0m \u001b[0mfirst\u001b[0m\u001b[0;34m(\u001b[0m\u001b[0mself\u001b[0m\u001b[0;34m,\u001b[0m \u001b[0moffset\u001b[0m\u001b[0;34m)\u001b[0m\u001b[0;34m:\u001b[0m\u001b[0;34m\u001b[0m\u001b[0m\n",
      "\u001b[0;32m/Library/Frameworks/Python.framework/Versions/3.5/lib/python3.5/site-packages/pandas/tseries/resample.py\u001b[0m in \u001b[0;36m_maybe_process_deprecations\u001b[0;34m(r, how, fill_method, limit)\u001b[0m\n\u001b[1;32m    580\u001b[0m                               method=method),\n\u001b[1;32m    581\u001b[0m                           FutureWarning, stacklevel=3)\n\u001b[0;32m--> 582\u001b[0;31m         \u001b[0mr\u001b[0m \u001b[0;34m=\u001b[0m \u001b[0mr\u001b[0m\u001b[0;34m.\u001b[0m\u001b[0maggregate\u001b[0m\u001b[0;34m(\u001b[0m\u001b[0mhow\u001b[0m\u001b[0;34m)\u001b[0m\u001b[0;34m\u001b[0m\u001b[0m\n\u001b[0m\u001b[1;32m    583\u001b[0m \u001b[0;34m\u001b[0m\u001b[0m\n\u001b[1;32m    584\u001b[0m     \u001b[0;32mif\u001b[0m \u001b[0mfill_method\u001b[0m \u001b[0;32mis\u001b[0m \u001b[0;32mnot\u001b[0m \u001b[0;32mNone\u001b[0m\u001b[0;34m:\u001b[0m\u001b[0;34m\u001b[0m\u001b[0m\n",
      "\u001b[0;32m/Library/Frameworks/Python.framework/Versions/3.5/lib/python3.5/site-packages/pandas/tseries/resample.py\u001b[0m in \u001b[0;36maggregate\u001b[0;34m(self, arg, *args, **kwargs)\u001b[0m\n\u001b[1;32m    318\u001b[0m \u001b[0;34m\u001b[0m\u001b[0m\n\u001b[1;32m    319\u001b[0m         \u001b[0mself\u001b[0m\u001b[0;34m.\u001b[0m\u001b[0m_set_binner\u001b[0m\u001b[0;34m(\u001b[0m\u001b[0;34m)\u001b[0m\u001b[0;34m\u001b[0m\u001b[0m\n\u001b[0;32m--> 320\u001b[0;31m         \u001b[0mresult\u001b[0m\u001b[0;34m,\u001b[0m \u001b[0mhow\u001b[0m \u001b[0;34m=\u001b[0m \u001b[0mself\u001b[0m\u001b[0;34m.\u001b[0m\u001b[0m_aggregate\u001b[0m\u001b[0;34m(\u001b[0m\u001b[0marg\u001b[0m\u001b[0;34m,\u001b[0m \u001b[0;34m*\u001b[0m\u001b[0margs\u001b[0m\u001b[0;34m,\u001b[0m \u001b[0;34m**\u001b[0m\u001b[0mkwargs\u001b[0m\u001b[0;34m)\u001b[0m\u001b[0;34m\u001b[0m\u001b[0m\n\u001b[0m\u001b[1;32m    321\u001b[0m         \u001b[0;32mif\u001b[0m \u001b[0mresult\u001b[0m \u001b[0;32mis\u001b[0m \u001b[0;32mNone\u001b[0m\u001b[0;34m:\u001b[0m\u001b[0;34m\u001b[0m\u001b[0m\n\u001b[1;32m    322\u001b[0m             return self._groupby_and_aggregate(arg,\n",
      "\u001b[0;32m/Library/Frameworks/Python.framework/Versions/3.5/lib/python3.5/site-packages/pandas/core/base.py\u001b[0m in \u001b[0;36m_aggregate\u001b[0;34m(self, arg, *args, **kwargs)\u001b[0m\n\u001b[1;32m    430\u001b[0m         \u001b[0m_level\u001b[0m \u001b[0;34m=\u001b[0m \u001b[0mkwargs\u001b[0m\u001b[0;34m.\u001b[0m\u001b[0mpop\u001b[0m\u001b[0;34m(\u001b[0m\u001b[0;34m'_level'\u001b[0m\u001b[0;34m,\u001b[0m \u001b[0;32mNone\u001b[0m\u001b[0;34m)\u001b[0m\u001b[0;34m\u001b[0m\u001b[0m\n\u001b[1;32m    431\u001b[0m         \u001b[0;32mif\u001b[0m \u001b[0misinstance\u001b[0m\u001b[0;34m(\u001b[0m\u001b[0marg\u001b[0m\u001b[0;34m,\u001b[0m \u001b[0mcompat\u001b[0m\u001b[0;34m.\u001b[0m\u001b[0mstring_types\u001b[0m\u001b[0;34m)\u001b[0m\u001b[0;34m:\u001b[0m\u001b[0;34m\u001b[0m\u001b[0m\n\u001b[0;32m--> 432\u001b[0;31m             \u001b[0;32mreturn\u001b[0m \u001b[0mgetattr\u001b[0m\u001b[0;34m(\u001b[0m\u001b[0mself\u001b[0m\u001b[0;34m,\u001b[0m \u001b[0marg\u001b[0m\u001b[0;34m)\u001b[0m\u001b[0;34m(\u001b[0m\u001b[0;34m*\u001b[0m\u001b[0margs\u001b[0m\u001b[0;34m,\u001b[0m \u001b[0;34m**\u001b[0m\u001b[0mkwargs\u001b[0m\u001b[0;34m)\u001b[0m\u001b[0;34m,\u001b[0m \u001b[0;32mNone\u001b[0m\u001b[0;34m\u001b[0m\u001b[0m\n\u001b[0m\u001b[1;32m    433\u001b[0m \u001b[0;34m\u001b[0m\u001b[0m\n\u001b[1;32m    434\u001b[0m         \u001b[0;32mif\u001b[0m \u001b[0misinstance\u001b[0m\u001b[0;34m(\u001b[0m\u001b[0marg\u001b[0m\u001b[0;34m,\u001b[0m \u001b[0mdict\u001b[0m\u001b[0;34m)\u001b[0m\u001b[0;34m:\u001b[0m\u001b[0;34m\u001b[0m\u001b[0m\n",
      "\u001b[0;32m/Library/Frameworks/Python.framework/Versions/3.5/lib/python3.5/site-packages/pandas/tseries/resample.py\u001b[0m in \u001b[0;36mf\u001b[0;34m(self, _method, *args, **kwargs)\u001b[0m\n\u001b[1;32m    538\u001b[0m     \u001b[0;32mdef\u001b[0m \u001b[0mf\u001b[0m\u001b[0;34m(\u001b[0m\u001b[0mself\u001b[0m\u001b[0;34m,\u001b[0m \u001b[0m_method\u001b[0m\u001b[0;34m=\u001b[0m\u001b[0mmethod\u001b[0m\u001b[0;34m,\u001b[0m \u001b[0;34m*\u001b[0m\u001b[0margs\u001b[0m\u001b[0;34m,\u001b[0m \u001b[0;34m**\u001b[0m\u001b[0mkwargs\u001b[0m\u001b[0;34m)\u001b[0m\u001b[0;34m:\u001b[0m\u001b[0;34m\u001b[0m\u001b[0m\n\u001b[1;32m    539\u001b[0m         \u001b[0mnv\u001b[0m\u001b[0;34m.\u001b[0m\u001b[0mvalidate_resampler_func\u001b[0m\u001b[0;34m(\u001b[0m\u001b[0m_method\u001b[0m\u001b[0;34m,\u001b[0m \u001b[0margs\u001b[0m\u001b[0;34m,\u001b[0m \u001b[0mkwargs\u001b[0m\u001b[0;34m)\u001b[0m\u001b[0;34m\u001b[0m\u001b[0m\n\u001b[0;32m--> 540\u001b[0;31m         \u001b[0;32mreturn\u001b[0m \u001b[0mself\u001b[0m\u001b[0;34m.\u001b[0m\u001b[0m_downsample\u001b[0m\u001b[0;34m(\u001b[0m\u001b[0m_method\u001b[0m\u001b[0;34m)\u001b[0m\u001b[0;34m\u001b[0m\u001b[0m\n\u001b[0m\u001b[1;32m    541\u001b[0m     \u001b[0mf\u001b[0m\u001b[0;34m.\u001b[0m\u001b[0m__doc__\u001b[0m \u001b[0;34m=\u001b[0m \u001b[0mgetattr\u001b[0m\u001b[0;34m(\u001b[0m\u001b[0mGroupBy\u001b[0m\u001b[0;34m,\u001b[0m \u001b[0mmethod\u001b[0m\u001b[0;34m)\u001b[0m\u001b[0;34m.\u001b[0m\u001b[0m__doc__\u001b[0m\u001b[0;34m\u001b[0m\u001b[0m\n\u001b[1;32m    542\u001b[0m     \u001b[0msetattr\u001b[0m\u001b[0;34m(\u001b[0m\u001b[0mResampler\u001b[0m\u001b[0;34m,\u001b[0m \u001b[0mmethod\u001b[0m\u001b[0;34m,\u001b[0m \u001b[0mf\u001b[0m\u001b[0;34m)\u001b[0m\u001b[0;34m\u001b[0m\u001b[0m\n",
      "\u001b[0;32m/Library/Frameworks/Python.framework/Versions/3.5/lib/python3.5/site-packages/pandas/tseries/resample.py\u001b[0m in \u001b[0;36m_downsample\u001b[0;34m(self, how, **kwargs)\u001b[0m\n\u001b[1;32m    691\u001b[0m         \u001b[0;31m# we want to call the actual grouper method here\u001b[0m\u001b[0;34m\u001b[0m\u001b[0;34m\u001b[0m\u001b[0m\n\u001b[1;32m    692\u001b[0m         result = obj.groupby(\n\u001b[0;32m--> 693\u001b[0;31m             self.grouper, axis=self.axis).aggregate(how, **kwargs)\n\u001b[0m\u001b[1;32m    694\u001b[0m \u001b[0;34m\u001b[0m\u001b[0m\n\u001b[1;32m    695\u001b[0m         \u001b[0mresult\u001b[0m \u001b[0;34m=\u001b[0m \u001b[0mself\u001b[0m\u001b[0;34m.\u001b[0m\u001b[0m_apply_loffset\u001b[0m\u001b[0;34m(\u001b[0m\u001b[0mresult\u001b[0m\u001b[0;34m)\u001b[0m\u001b[0;34m\u001b[0m\u001b[0m\n",
      "\u001b[0;32m/Library/Frameworks/Python.framework/Versions/3.5/lib/python3.5/site-packages/pandas/core/groupby.py\u001b[0m in \u001b[0;36maggregate\u001b[0;34m(self, func_or_funcs, *args, **kwargs)\u001b[0m\n\u001b[1;32m   2658\u001b[0m         \u001b[0m_level\u001b[0m \u001b[0;34m=\u001b[0m \u001b[0mkwargs\u001b[0m\u001b[0;34m.\u001b[0m\u001b[0mpop\u001b[0m\u001b[0;34m(\u001b[0m\u001b[0;34m'_level'\u001b[0m\u001b[0;34m,\u001b[0m \u001b[0;32mNone\u001b[0m\u001b[0;34m)\u001b[0m\u001b[0;34m\u001b[0m\u001b[0m\n\u001b[1;32m   2659\u001b[0m         \u001b[0;32mif\u001b[0m \u001b[0misinstance\u001b[0m\u001b[0;34m(\u001b[0m\u001b[0mfunc_or_funcs\u001b[0m\u001b[0;34m,\u001b[0m \u001b[0mcompat\u001b[0m\u001b[0;34m.\u001b[0m\u001b[0mstring_types\u001b[0m\u001b[0;34m)\u001b[0m\u001b[0;34m:\u001b[0m\u001b[0;34m\u001b[0m\u001b[0m\n\u001b[0;32m-> 2660\u001b[0;31m             \u001b[0;32mreturn\u001b[0m \u001b[0mgetattr\u001b[0m\u001b[0;34m(\u001b[0m\u001b[0mself\u001b[0m\u001b[0;34m,\u001b[0m \u001b[0mfunc_or_funcs\u001b[0m\u001b[0;34m)\u001b[0m\u001b[0;34m(\u001b[0m\u001b[0;34m*\u001b[0m\u001b[0margs\u001b[0m\u001b[0;34m,\u001b[0m \u001b[0;34m**\u001b[0m\u001b[0mkwargs\u001b[0m\u001b[0;34m)\u001b[0m\u001b[0;34m\u001b[0m\u001b[0m\n\u001b[0m\u001b[1;32m   2661\u001b[0m \u001b[0;34m\u001b[0m\u001b[0m\n\u001b[1;32m   2662\u001b[0m         \u001b[0;32mif\u001b[0m \u001b[0mhasattr\u001b[0m\u001b[0;34m(\u001b[0m\u001b[0mfunc_or_funcs\u001b[0m\u001b[0;34m,\u001b[0m \u001b[0;34m'__iter__'\u001b[0m\u001b[0;34m)\u001b[0m\u001b[0;34m:\u001b[0m\u001b[0;34m\u001b[0m\u001b[0m\n",
      "\u001b[0;32m/Library/Frameworks/Python.framework/Versions/3.5/lib/python3.5/site-packages/pandas/core/groupby.py\u001b[0m in \u001b[0;36mmean\u001b[0;34m(self, *args, **kwargs)\u001b[0m\n\u001b[1;32m   1007\u001b[0m         \u001b[0mnv\u001b[0m\u001b[0;34m.\u001b[0m\u001b[0mvalidate_groupby_func\u001b[0m\u001b[0;34m(\u001b[0m\u001b[0;34m'mean'\u001b[0m\u001b[0;34m,\u001b[0m \u001b[0margs\u001b[0m\u001b[0;34m,\u001b[0m \u001b[0mkwargs\u001b[0m\u001b[0;34m)\u001b[0m\u001b[0;34m\u001b[0m\u001b[0m\n\u001b[1;32m   1008\u001b[0m         \u001b[0;32mtry\u001b[0m\u001b[0;34m:\u001b[0m\u001b[0;34m\u001b[0m\u001b[0m\n\u001b[0;32m-> 1009\u001b[0;31m             \u001b[0;32mreturn\u001b[0m \u001b[0mself\u001b[0m\u001b[0;34m.\u001b[0m\u001b[0m_cython_agg_general\u001b[0m\u001b[0;34m(\u001b[0m\u001b[0;34m'mean'\u001b[0m\u001b[0;34m)\u001b[0m\u001b[0;34m\u001b[0m\u001b[0m\n\u001b[0m\u001b[1;32m   1010\u001b[0m         \u001b[0;32mexcept\u001b[0m \u001b[0mGroupByError\u001b[0m\u001b[0;34m:\u001b[0m\u001b[0;34m\u001b[0m\u001b[0m\n\u001b[1;32m   1011\u001b[0m             \u001b[0;32mraise\u001b[0m\u001b[0;34m\u001b[0m\u001b[0m\n",
      "\u001b[0;32m/Library/Frameworks/Python.framework/Versions/3.5/lib/python3.5/site-packages/pandas/core/groupby.py\u001b[0m in \u001b[0;36m_cython_agg_general\u001b[0;34m(self, how, numeric_only)\u001b[0m\n\u001b[1;32m    806\u001b[0m \u001b[0;34m\u001b[0m\u001b[0m\n\u001b[1;32m    807\u001b[0m         \u001b[0;32mif\u001b[0m \u001b[0mlen\u001b[0m\u001b[0;34m(\u001b[0m\u001b[0moutput\u001b[0m\u001b[0;34m)\u001b[0m \u001b[0;34m==\u001b[0m \u001b[0;36m0\u001b[0m\u001b[0;34m:\u001b[0m\u001b[0;34m\u001b[0m\u001b[0m\n\u001b[0;32m--> 808\u001b[0;31m             \u001b[0;32mraise\u001b[0m \u001b[0mDataError\u001b[0m\u001b[0;34m(\u001b[0m\u001b[0;34m'No numeric types to aggregate'\u001b[0m\u001b[0;34m)\u001b[0m\u001b[0;34m\u001b[0m\u001b[0m\n\u001b[0m\u001b[1;32m    809\u001b[0m \u001b[0;34m\u001b[0m\u001b[0m\n\u001b[1;32m    810\u001b[0m         \u001b[0;32mreturn\u001b[0m \u001b[0mself\u001b[0m\u001b[0;34m.\u001b[0m\u001b[0m_wrap_aggregated_output\u001b[0m\u001b[0;34m(\u001b[0m\u001b[0moutput\u001b[0m\u001b[0;34m,\u001b[0m \u001b[0mnames\u001b[0m\u001b[0;34m)\u001b[0m\u001b[0;34m\u001b[0m\u001b[0m\n",
      "\u001b[0;31mDataError\u001b[0m: No numeric types to aggregate"
     ]
    }
   ],
   "source": [
    "cuxhaven = df[df.name == 'CUXHAVEN/STEUBENHÖFT'].set_index('timestamp').value.resample('1A', how='mean')\n",
    "\n",
    "cuxhaven"
   ]
  },
  {
   "cell_type": "markdown",
   "metadata": {},
   "source": [
    "Let's take all high tide data between 1971 and 2014 (inclusive) from all stations that provide data since 1970.\n",
    "Resample to one year and round."
   ]
  },
  {
   "cell_type": "code",
   "execution_count": null,
   "metadata": {
    "collapsed": false
   },
   "outputs": [],
   "source": [
    "data = df[(df.type == 'Thw') &\n",
    "          (df.timestamp.dt.year >= 1971) &\n",
    "          (df.timestamp.dt.year <= 2014) &\n",
    "          (df.name.isin(stations_1970.index))].groupby(['name', 'timestamp']).value.mean().unstack().T\n",
    "data = data.resample('1A', how='mean').apply(np.round)\n",
    "# data = pd.rolling_mean(data.resample(\"1M\", how='mean'), window=12, min_period=1)\n",
    "data.head()"
   ]
  },
  {
   "cell_type": "markdown",
   "metadata": {},
   "source": [
    "### Export different data subsets to CSV"
   ]
  },
  {
   "cell_type": "code",
   "execution_count": null,
   "metadata": {
    "collapsed": false
   },
   "outputs": [],
   "source": [
    "data_1950 = df[(df.type == 'Thw')\n",
    "          & (df.timestamp.dt.year >= 1951)\n",
    "          & (df.timestamp.dt.year <= 2014)\n",
    "          & (df.name.isin(stations_1950.index))]\n",
    "len(data_1950)"
   ]
  },
  {
   "cell_type": "code",
   "execution_count": null,
   "metadata": {
    "collapsed": false
   },
   "outputs": [],
   "source": [
    "data_1950_grouped = data_1950.groupby(['name', 'timestamp']).value.mean().unstack().T\n",
    "data_1950_grouped = data_1950_grouped.resample('1A', how='mean').apply(np.round)\n",
    "print(len(data_1950_grouped.columns))\n",
    "data_1950_grouped.T.to_csv('../chart/data/data_1950.csv', encoding='utf-8')"
   ]
  },
  {
   "cell_type": "code",
   "execution_count": null,
   "metadata": {
    "collapsed": false
   },
   "outputs": [],
   "source": [
    "data_1970 = df[(df.type == 'Thw')\n",
    "          & (df.timestamp.dt.year >= 1971)\n",
    "          & (df.timestamp.dt.year <= 2014)\n",
    "          & (df.name.isin(stations_1970.index))]\n",
    "len(data_1970)"
   ]
  },
  {
   "cell_type": "code",
   "execution_count": null,
   "metadata": {
    "collapsed": false
   },
   "outputs": [],
   "source": [
    "data_1970_grouped = data_1970.groupby(['name', 'timestamp']).value.mean().unstack().T\n",
    "data_1970_grouped = data_1970_grouped.resample('1A', how='mean').apply(np.round)\n",
    "print(len(data.columns))\n",
    "data_1970_grouped.T.to_csv('../chart/data/data_1970.csv', encoding='utf-8')"
   ]
  },
  {
   "cell_type": "code",
   "execution_count": null,
   "metadata": {
    "collapsed": false
   },
   "outputs": [],
   "source": [
    "data_1970_grouped_5a = data_1970.groupby(['name', 'timestamp']).value.mean().unstack().T\n",
    "# data = data.resample('5A', how='mean').apply(np.round)\n",
    "data_1970_grouped_5a = pd.rolling_mean(data_1970_grouped_5a.resample(\"1A\", how='mean'), window=10, min_periods=1).apply(np.round)\n",
    "print(len(data_1970_grouped_5a.columns))\n",
    "data_1970_grouped_5a.T.to_csv('../chart/data/data_1970_5a.csv', encoding='utf-8')"
   ]
  },
  {
   "cell_type": "code",
   "execution_count": null,
   "metadata": {
    "collapsed": true
   },
   "outputs": [],
   "source": [
    "data = df[(df.type == 'Thw')\n",
    "          & (df.timestamp.dt.year >= 1951)\n",
    "          & (df.timestamp.dt.year <= 2014)\n",
    "          & (df.name.isin(stations_1950.index))\n",
    "         ].groupby(['name', 'timestamp']).value.mean().unstack().T\n",
    "# data = data.resample('5A', how='mean').apply(np.round)\n",
    "data = pd.rolling_mean(data.resample(\"1A\", how='mean'), window=10, min_periods=1).apply(np.round)\n",
    "data.T.to_csv('../chart/data/data_1950_5a.csv', encoding='utf-8')"
   ]
  },
  {
   "cell_type": "code",
   "execution_count": null,
   "metadata": {
    "collapsed": false
   },
   "outputs": [],
   "source": [
    "# Cuxhaven data\n",
    "cuxhaven_data = df[(df.type == 'Thw') & (df.name == 'CUXHAVEN/STEUBENHÖFT')]\n",
    "print(len(cuxhaven_data))\n",
    "(cuxhaven_data.groupby(['name', 'timestamp']).value.mean().unstack().T\n",
    "         .resample('1A', how='mean').apply(np.round)\n",
    "         .T.to_csv('../chart/data/cuxhaven.csv', encoding='utf-8'))"
   ]
  },
  {
   "cell_type": "markdown",
   "metadata": {},
   "source": [
    "### Plot a grid of charts"
   ]
  },
  {
   "cell_type": "code",
   "execution_count": null,
   "metadata": {
    "collapsed": false,
    "scrolled": true
   },
   "outputs": [],
   "source": [
    "def plot_grid(df, cols=4, **kwargs):\n",
    "    fig, axes = plt.subplots(nrows=int(np.ceil(len(df.columns) / cols)), ncols=cols)\n",
    "    fig.set_figheight(6)\n",
    "    fig.set_figwidth(8)\n",
    "\n",
    "    for i, x in enumerate(df.columns):\n",
    "        ax = axes[i // cols, i % cols]\n",
    "        df[x].plot(ax=ax, color='blue', legend=False, label=False,\n",
    "                   kind='line', stacked=False, sharex=False,\n",
    "                   figsize=(25, 50))\n",
    "        ax.set_title(x)\n",
    "        ax.xaxis.set_visible(False)\n",
    "    return fig\n",
    "\n",
    "fig = plot_grid(data)\n",
    "fig.show()"
   ]
  }
 ],
 "metadata": {
  "kernelspec": {
   "display_name": "Python 3",
   "language": "python",
   "name": "python3"
  },
  "language_info": {
   "codemirror_mode": {
    "name": "ipython",
    "version": 3
   },
   "file_extension": ".py",
   "mimetype": "text/x-python",
   "name": "python",
   "nbconvert_exporter": "python",
   "pygments_lexer": "ipython3",
   "version": "3.5.0"
  }
 },
 "nbformat": 4,
 "nbformat_minor": 0
}
